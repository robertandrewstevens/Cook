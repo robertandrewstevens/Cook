{
 "cells": [
  {
   "cell_type": "markdown",
   "metadata": {},
   "source": [
    "https://www.johndcook.com/blog/2017/09/21/a-cryptographically-secure-random-number-generator/\n",
    "    \n",
    "# A cryptographically secure random number generator\n",
    "\n",
    "Posted on 21 September 2017 by John\n",
    "\n",
    "A random number generator can have excellent statistical properties and yet not be suited for use in cryptography. I’ve written a few posts to demonstrate this. For example, this post shows how to discover the seed of an LCG random number generator.\n",
    "\n",
    "This is not possible with a secure random number generator. Or more precisely, it is not practical. It may be theoretically possible, but doing so requires solving a problem currently believed to be extremely time-consuming. (Lots of weasel words here. That’s the nature of cryptography. Security often depends on the assumption that a problem is as hard to solve as experts generally believe it is.)\n",
    "\n",
    "## Blum Blum Shub algorithm\n",
    "\n",
    "The Blum Blum Shub algorithm for generating random bits rests on the assumption that a certain number theory problem, the quadratic residuosity problem, is hard to solve. The algorithm is simple. Let M = pq where p and q are large primes, both congruent to 3 mod 4. Pick a seed x0 between 1 and M and relatively prime to M. Now for n > 0, set\n",
    "\n",
    "xn+1 = xn² mod M\n",
    "\n",
    "and return the least significant bit of xn+1. (Yes, that’s a lot of work for just one bit. If you don’t need cryptographic security, there are much faster random number generators.)\n",
    "\n",
    "## Python implementation\n",
    "\n",
    "Here’s some Python code to illustrate using the generator. The code is intended to be clear, not efficient.\n",
    "\n",
    "Given two large (not necessarily prime) numbers x and y, the code below finds primes p and q for the algorithm and checks that the seed is OK to use."
   ]
  },
  {
   "cell_type": "code",
   "execution_count": 1,
   "metadata": {
    "collapsed": true
   },
   "outputs": [],
   "source": [
    "import sympy\n",
    "\n",
    "# super secret large numbers\n",
    "x = 3*10**200\n",
    "y = 4*10**200\n",
    "seed = 5*10**300\n",
    "\n",
    "def next_usable_prime(x):\n",
    "    # Find the next prime congruent to 3 mod 4 following x.\n",
    "    p = sympy.nextprime(x)\n",
    "    while (p % 4 != 3):\n",
    "        p = sympy.nextprime(p)\n",
    "    return p\n",
    "\n",
    "p = next_usable_prime(x)\n",
    "q = next_usable_prime(y)\n",
    "M = p*q\n",
    "\n",
    "assert(1 < seed < M)\n",
    "assert(seed % p != 0)\n",
    "assert(seed % q != 0)"
   ]
  },
  {
   "cell_type": "markdown",
   "metadata": {},
   "source": [
    "There’s a little bit of a chicken-and-egg problem here: how do you pick x, y, and seed? Well, you could use a cryptographically secure random number generator ….\n",
    "\n",
    "Now let’s generate a long string of bits:"
   ]
  },
  {
   "cell_type": "code",
   "execution_count": 2,
   "metadata": {
    "collapsed": true
   },
   "outputs": [],
   "source": [
    "# Number of random numbers to generate\n",
    "N = 100000     \n",
    "\n",
    "x = seed\n",
    "bit_string = \"\"\n",
    "for _ in range(N):\n",
    "    x = x*x % M\n",
    "    b = x % 2\n",
    "    bit_string += str(b)"
   ]
  },
  {
   "cell_type": "markdown",
   "metadata": {},
   "source": [
    "## Testing\n",
    "\n",
    "I did not test the output thoroughly; I didn’t use anything like DIEHARDER or PractRand as in previous posts, but just ran a couple simple tests described here.\n",
    "\n",
    "First I look at the balance of 0’s and 1’s.\n",
    "\n",
    "    Number of 1's: 50171\n",
    "    Expected: 49683.7 to 50316.2\n",
    "\n",
    "Then the longest run. (See this post for a discussion of expected run length.)\n",
    "\n",
    "    Run length: 16\n",
    "    Expected: 12.7 to 18.5\n",
    "\n",
    "Nothing unusual here.\n",
    "\n",
    "## The Blums\n",
    "\n",
    "The first two authors of Blum Blum Shub are Lenore and Manuel Blum. The third author is Michael Shub.\n",
    "\n",
    "I had a chance to meet the Blums at the Heidelberg Laureate Forum in 2014. Manuel Blum gave a talk that year on mental cryptography that I blogged about here and followed up here. He and his wife Lenore were very pleasant to talk with."
   ]
  },
  {
   "cell_type": "code",
   "execution_count": null,
   "metadata": {
    "collapsed": true
   },
   "outputs": [],
   "source": []
  }
 ],
 "metadata": {
  "kernelspec": {
   "display_name": "Python 2",
   "language": "python",
   "name": "python2"
  },
  "language_info": {
   "codemirror_mode": {
    "name": "ipython",
    "version": 2
   },
   "file_extension": ".py",
   "mimetype": "text/x-python",
   "name": "python",
   "nbconvert_exporter": "python",
   "pygments_lexer": "ipython2",
   "version": "2.7.13"
  }
 },
 "nbformat": 4,
 "nbformat_minor": 2
}
