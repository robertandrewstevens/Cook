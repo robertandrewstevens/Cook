{
 "cells": [
  {
   "cell_type": "markdown",
   "metadata": {},
   "source": [
    "https://www.johndcook.com/blog/2017/10/03/clean-obfuscated-code/\n",
    "    \n",
    "# Clean obfuscated code\n",
    "\n",
    "Posted on 3 October 2017 by John\n",
    "\n",
    "One way to obfuscate code is clever use of arcane programming language syntax. Hackers are able to write completely unrecognizable code by exploiting dark corners of programming techniques and languages. Some of these attempts are quite impressive.\n",
    "\n",
    "But it’s also possible to write clean source code that is nevertheless obfuscated. For example, it’s not at all obvious what the following code computes."
   ]
  },
  {
   "cell_type": "code",
   "execution_count": 1,
   "metadata": {},
   "outputs": [
    {
     "name": "stdout",
     "output_type": "stream",
     "text": [
      "0.00530572423414\n"
     ]
    }
   ],
   "source": [
    "def f(x):\n",
    "    return 4*x*(1-x)\n",
    "\n",
    "def g(x):\n",
    "    return x**3.5 * (1-x)**2.5\n",
    "\n",
    "sum = 0\n",
    "x = 1/7.0\n",
    "N = 1000000\n",
    "\n",
    "for _ in range(N):\n",
    "    x = f(x)\n",
    "    sum += g(x)\n",
    "\n",
    "print(sum/N)"
   ]
  },
  {
   "cell_type": "markdown",
   "metadata": {},
   "source": [
    "The key to unraveling this mystery is a post I wrote a few days ago that shows the x‘s in this code cover the unit interval like random samples from a beta(0.5, 0.5) distribution. That means the code is finding the expected value of g(X) where X has a beta(0.5, 0.5) distribution. The following computes this expected value.\n",
    "\n",
    " \\int_0^1 g(x) \\, dF_X &=& \\frac{1}{\\pi} \\int_0^1 x^{3.5} (1-x)^{2.5} x^{-0.5} (1-x)^{-0.5} \\, dx \\\\ &=& \\frac{1}{\\pi} \\int_0^1 x^3 (1-x)^2\\, dx \\\\ &=& \\frac{1}{\\pi} \\frac{\\Gamma(4) \\Gamma(3)}{\\pi \\Gamma(7)} \\\\ &=&\\frac{1}{60\\pi}\n",
    "\n",
    "The output of the program matches 1/60π to six decimal places."
   ]
  }
 ],
 "metadata": {
  "kernelspec": {
   "display_name": "Python 2",
   "language": "python",
   "name": "python2"
  },
  "language_info": {
   "codemirror_mode": {
    "name": "ipython",
    "version": 2
   },
   "file_extension": ".py",
   "mimetype": "text/x-python",
   "name": "python",
   "nbconvert_exporter": "python",
   "pygments_lexer": "ipython2",
   "version": "2.7.13"
  }
 },
 "nbformat": 4,
 "nbformat_minor": 2
}
