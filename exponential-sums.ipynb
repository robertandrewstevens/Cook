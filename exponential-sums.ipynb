{
 "cells": [
  {
   "cell_type": "markdown",
   "metadata": {},
   "source": [
    "https://www.johndcook.com/blog/2017/10/07/exponential-sums-make-pretty-pictures/\n",
    "    \n",
    "#Exponential sums make pretty pictures\n",
    "\n",
    "Posted on 7 October 2017 by John\n",
    "\n",
    "Exponential sums are a specialized area of math that studies series with terms that are complex exponentials. Estimating such sums is delicate work. General estimation techniques are ham-fisted compared to what is possible with techniques specialized for these particular sums. Exponential sums are closely related to Fourier analysis and number theory.\n",
    "\n",
    "Exponential sums also make pretty pictures. If you make a scatter plot of the sequence of partial sums you can get surprising shapes. This is related to the trickiness of estimating such sums: the partial sums don’t simply monotonically converge to a limit.\n",
    "\n",
    "The exponential sum page at UNSW suggests playing around with polynomials with dates in the denominator. If we take that suggestion with today’s date, we get the curve below:\n",
    "\n",
    "f(n) = n/10 + n**2/7 + n**3/17\n",
    "\n",
    "These are the partial sums of exp(2πi f(n)) where f(n) = n/10 + n²/7 + n³/17.\n",
    "\n",
    "[Update: You can get an image each day for the current day’s date here.]\n",
    "\n",
    "Here’s the code that produced the image."
   ]
  },
  {
   "cell_type": "code",
   "execution_count": 2,
   "metadata": {},
   "outputs": [
    {
     "data": {
      "image/png": "[encoded data removed]",
      "text/plain": [
       "<matplotlib.figure.Figure at 0x10cbb1290>"
      ]
     },
     "metadata": {},
     "output_type": "display_data"
    }
   ],
   "source": [
    "import matplotlib.pyplot as plt\n",
    "from numpy import array, pi, exp, log\n",
    "\n",
    "N = 12000\n",
    "\n",
    "def f(n):\n",
    "    return n/10 + n**2/7 + n**3/17 \n",
    "\n",
    "z = array([exp(2*pi*1j*f(n)) for n in range(3, N + 3)])\n",
    "z = z.cumsum()\n",
    "\n",
    "plt.plot(z.real, z.imag, color = '#333399')\n",
    "plt.axes().set_aspect(1)\n",
    "plt.show()"
   ]
  },
  {
   "cell_type": "markdown",
   "metadata": {},
   "source": [
    "If we use logarithms, we get interesting spirals. Here f(n) = log(n)^4.1.\n",
    "\n",
    "f(n) = log(n)**4.1\n",
    "\n",
    "And we can mix polynomials with logarithms. Here f(n) = log(n) + n²/100.\n",
    "\n",
    "In this last image, I reduced the number of points from 12,000 to 1200. With a large number of points the spiral nature dominates and you don’t see the swirls along the spiral as clearly."
   ]
  }
 ],
 "metadata": {
  "kernelspec": {
   "display_name": "Python 2",
   "language": "python",
   "name": "python2"
  },
  "language_info": {
   "codemirror_mode": {
    "name": "ipython",
    "version": 2
   },
   "file_extension": ".py",
   "mimetype": "text/x-python",
   "name": "python",
   "nbconvert_exporter": "python",
   "pygments_lexer": "ipython2",
   "version": "2.7.13"
  }
 },
 "nbformat": 4,
 "nbformat_minor": 2
}
